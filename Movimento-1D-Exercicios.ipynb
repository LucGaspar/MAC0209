{
 "cells": [
  {
   "cell_type": "markdown",
   "metadata": {},
   "source": [
    "# Método de Euler para solução de EDOs"
   ]
  },
  {
   "cell_type": "markdown",
   "metadata": {},
   "source": [
    "O método de Euler é uma forma de resolver numericamente uma equação diferencial ordinária. Assumem-se conhecidas a derivada de uma função que se quer encontrar (\"resolver\") e um valor inicial da equação a ser integrada. Por exemplo, no caso do movimento uniformemente acelerado:$$a=\\mbox{constante}, b=\\mbox{constante}$$\n",
    "\n",
    "$$v(t) = x'(t) = dx(t)/dt = 2*a*t + b$$, $$x(0)=0$$\n",
    "\n",
    "A ideia do método de Euler é substituir a derivada por uma aproximação de Taylor, desprezando-se os termos maiores que segunda ordem. Isto é:\n",
    "\n",
    "$$x'(t)\\sim \\frac{x(t+\\Delta t)-x(t)}{\\Delta t}$$\n",
    "\n",
    "Se denotarmos os valores de $x(t)$ por $x_t$, isto é, ao invés da notação de função, usarmos a notação com índices, e assumirmos que os valores de $t$ só podem ser números inteiros (portanto $\\Delta t$ é no mínimo 1, o valor $x(t+\\Delta t)$ pode ser escrito como $x_1$, para $t=0$; $x_2$, para $t=1$ e assim por diante. \n",
    "\n",
    "Desta maneira, o exemplo poderia ser escrito assim (note que já estamos assumindo $\\Delta t = 1$:\n",
    "\n",
    "$$v(t) = x'(t) = 2*a*t + b \\sim x_t - x_{t-1},$$\n",
    "\n",
    "isto é,\n",
    "\n",
    "$$ x_t = x_{t-1} + 2*a*t + b $$\n",
    "\n",
    "Como sabemos o valor inicial em $t=0$, podemos calcular $x_t$ para todo $t>0$:\n",
    "\n",
    "$$ x_1 = x_{0} + 2*a*1 + b $$\n",
    "\n",
    "$$ x_2 = x_{1} + 2*a*2 + b = 6*a + 2*b$$\n",
    "\n",
    "$$ x_3 = x_{2} + 2*a*3 + b = 6*a + 2*b + 6*a + b = 12*a + 3*b$$\n",
    "\n",
    "e assim por diante.\n",
    "\n",
    "Em verdade, $\\Delta t$ não precisa ser um número inteiro e em geral, não é. Porém, no caso de não ser um número inteiro, desacoplamos os índices do incremento pois os índices são inteiros. Isto é:\n",
    "\n",
    "$$x'(t)\\sim \\frac{x(t+\\Delta t)-x(t)}{\\Delta t}$$\n",
    "\n",
    "$$x(t+\\Delta t) \\sim x(t) + x'(t)*\\Delta t$$\n",
    "\n",
    "Aplicando para a equação do exemplo, temos:\n",
    "\n",
    "$$ x_t = x_{t-1} + (2*a*t + b)*\\Delta t $$\n",
    "\n",
    "\n"
   ]
  },
  {
   "cell_type": "markdown",
   "metadata": {},
   "source": [
    "# Implementanto o método de Euler"
   ]
  },
  {
   "cell_type": "markdown",
   "metadata": {},
   "source": [
    "Da forma que a equação foi construída, isto é, $ x_t = x_{t-1} + (2*a*t + b)*\\Delta t $, é trivial implementá-la. basta que estabeleçamos os valores de $a$, $b$ e $x_0$.\n",
    "\n",
    "No entanto, para a implementação ficar organizada, crie duas funções: \n",
    "- nextXeuler(x,t,params,dt): que recebe um vetor de parâmetros iniciais, params, o tempo e a posição atual, t e x, respectivamente, e o delta de tempo, dt (note que com isso desacoplamos os índices do incremento). A função retorna a nova posição $x_t$ de acordo com o método de Euler: $ x_t = x_{t-1} + (2*a*t + b)*\\Delta t $.\n",
    "- nextXana(t,params): que recebe um vetor de parâmetros iniciais, params, e o tempo atual. A função retorna a nova posição $x_t$ de acordo com a equação integrada analiticamente: $ x_t = a*t^2 + b*t + x_0 $.\n",
    "\n",
    "Crie uma função main que itera essas duas funções entre os tempos 0s e 2s (com um dt de 0.1s) calcula e imprime a diferença entre elas (erro) e as grafique.\n"
   ]
  },
  {
   "cell_type": "code",
   "execution_count": 28,
   "metadata": {
    "nbgrader": {
     "grade": true,
     "grade_id": "cell-0f07608352e18365",
     "locked": true,
     "points": 0,
     "schema_version": 1,
     "solution": false
    }
   },
   "outputs": [
    {
     "name": "stdout",
     "output_type": "stream",
     "text": [
      "0.009999999999999981\n",
      "0.01999999999999999\n",
      "0.12999999999999995\n",
      "0.14\n",
      "0.15000000000000013\n",
      "0.16000000000000014\n",
      "0.17000000000000015\n",
      "0.18000000000000016\n",
      "0.1900000000000004\n",
      "0.20000000000000062\n",
      "0.2100000000000004\n",
      "0.2200000000000002\n",
      "0.22999999999999954\n",
      "0.23999999999999932\n",
      "0.24999999999999867\n",
      "0.2599999999999989\n",
      "0.2699999999999987\n",
      "0.2799999999999985\n",
      "0.28999999999999826\n",
      "0.1999999999999984\n"
     ]
    },
    {
     "data": {
      "image/png": "[encoded data removed]",
      "text/plain": [
       "<matplotlib.figure.Figure at 0x7f568c66f0f0>"
      ]
     },
     "metadata": {},
     "output_type": "display_data"
    }
   ],
   "source": [
    "# Implementa o exercício da integração de Euler de dx(t)/dt = 2at + b\n",
    "\n",
    "import math\n",
    "import matplotlib.pyplot as pyplot\n",
    "\n",
    "def nextXeuler(x,t,params,dt):\n",
    "    \"\"\" nextXeuler implementa o método de Euler. \n",
    "        \n",
    "    Parâmetros:\n",
    "    -----------\n",
    "    x: float - Posição atual\n",
    "    t: float - Tempo atual\n",
    "    params: float - vetor de três posições com as constantes a, b e a posição inicial\n",
    "    dt: float - passo de tempo\n",
    "    \n",
    "    Returns:\n",
    "    --------\n",
    "    x: float : posição atualizada\n",
    "    \n",
    "    \"\"\"\n",
    "    ### BEGIN SOLUTION\n",
    "    if (t <= 0):\n",
    "        return params[2];\n",
    "    \n",
    "    return nextXeuler(x, t-dt, params, dt) + (2 * params[0] * t + params[1]) * dt;\n",
    "    ### END SOLUTION\n",
    "\n",
    "def nextXana(t,params):\n",
    "    \"\"\" nextXana implementa o método analítico. \n",
    "\n",
    "    Parâmetros:\n",
    "    -----------\n",
    "    t: float - Tempo atual\n",
    "    params: float - vetor de três posições com as constantes a, b e a posição inicial\n",
    "    \n",
    "    Returns:\n",
    "    --------\n",
    "    x: float : posição atualizada\n",
    "    \n",
    "    \"\"\"\n",
    "\n",
    "    ### BEGIN SOLUTION\n",
    "    return params[0] * t * t + params[1] * t + params[2];\n",
    "    ### END SOLUTION\n",
    "\n",
    "def main():\n",
    "    # tempo inicial\n",
    "    t= 0\n",
    "    # tempo final\n",
    "    tf=2\n",
    "    # passo de tempo\n",
    "    dt=0.1\n",
    "    # posição inicial\n",
    "    x=0\n",
    "    # vetor de parâmetros inicial. Três posições com as constantes a, b e a posição inicial\n",
    "    # Mude a vontade\n",
    "    params = [1,1,x]\n",
    "    # vetor para guardar os tempos do movimento\n",
    "    vt=[t]\n",
    "    # Forma de criar um vetor vazio em Python\n",
    "    # vetor para guardar as posições da partícula segundo a forma analítica \n",
    "    vxa=[]\n",
    "    # vetor para guardar as posições da partícula segundo Euler    \n",
    "    vxe=[]\n",
    "\n",
    "    ### BEGIN SOLUTION\n",
    "    while (t < tf):\n",
    "        t += dt;\n",
    "        vt.append(t);\n",
    "        a = nextXana(t, params)\n",
    "        vxa.append(a);\n",
    "        e = nextXeuler(x, t, params, dt)\n",
    "        vxe.append(e);\n",
    "        print(e - a)\n",
    "        \n",
    "    ### END SOLUTION\n",
    "\n",
    "    # Se você implementou tudo certinho, use os comandos abaixo para graficar os resultados.\n",
    "    pyplot.figure(0)\n",
    "    pyplot.plot(vt[0:-1],vxe,label='Euler',linestyle='',marker='o') \n",
    "    pyplot.plot(vt[0:-1],vxa,label='Analytical')\n",
    "    pyplot.title('Position')\n",
    "    pyplot.show(block=False)\n",
    "\n",
    "main() "
   ]
  },
  {
   "cell_type": "markdown",
   "metadata": {},
   "source": [
    "Repita o exercício acima para graficar com os incrementos. Isto é, para cada ponto, cria uma barra que indica o quanto foi o incremento usado. Use poucos pontos para ver o resultado."
   ]
  },
  {
   "cell_type": "code",
   "execution_count": 25,
   "metadata": {},
   "outputs": [
    {
     "data": {
      "image/png": "[encoded data removed]",
      "text/plain": [
       "<matplotlib.figure.Figure at 0x7f5695294f98>"
      ]
     },
     "metadata": {},
     "output_type": "display_data"
    }
   ],
   "source": [
    "# Implementa o exercício da integração de Euler de dx(t)/dt = 2at + b\n",
    "\n",
    "import numpy as np\n",
    "import math\n",
    "import matplotlib.pyplot as pyplot\n",
    "\n",
    "def nextXeuler(x,t,params,dt):\n",
    "    \"\"\" nextXeuler implementa o método de Euler. \n",
    "        \n",
    "    Parâmetros:\n",
    "    -----------\n",
    "    x: float - Posição atual\n",
    "    t: float - Tempo atual\n",
    "    params: float - vetor de três posições com as constantes a, b e a posição inicial\n",
    "    dt: float - passo de tempo\n",
    "    \n",
    "    Returns:\n",
    "    --------\n",
    "    x: float : posição atualizada\n",
    "    \n",
    "    \"\"\"\n",
    "    ### BEGIN SOLUTION\n",
    "    if (t <= 0):\n",
    "        return params[2];\n",
    "    \n",
    "    return nextXeuler(x, t-dt, params, dt) + (2 * params[0] * t + params[1]) * dt;\n",
    "    ### END SOLUTION\n",
    "\n",
    "def nextXana(t,params):\n",
    "    \"\"\" nextXana implementa o método analítico. \n",
    "\n",
    "    Parâmetros:\n",
    "    -----------\n",
    "    t: float - Tempo atual\n",
    "    params: float - vetor de três posições com as constantes a, b e a posição inicial\n",
    "    \n",
    "    Returns:\n",
    "    --------\n",
    "    x: float : posição atualizada\n",
    "    \n",
    "    \"\"\"\n",
    "\n",
    "    ### BEGIN SOLUTION\n",
    "    return params[0] * t * t + params[1] * t + params[2];\n",
    "    ### END SOLUTION\n",
    "\n",
    "def main():\n",
    "    # tempo inicial\n",
    "    t= 0\n",
    "    # tempo final\n",
    "    tf=2\n",
    "    # passo de tempo\n",
    "    dt=0.1\n",
    "    # posição inicial\n",
    "    x=0\n",
    "    # vetor de parâmetros inicial. Três posições com as constantes a, b e a posição inicial\n",
    "    # Mude a vontade\n",
    "    params = [1,1,x]\n",
    "    # vetor para guardar os tempos do movimento\n",
    "    vt=[t]\n",
    "    # Forma de criar um vetor vazio em Python\n",
    "    # vetor para guardar as posições da partícula segundo a forma analítica \n",
    "    vxa=[]\n",
    "    # vetor para guardar as posições da partícula segundo Euler    \n",
    "    vxe=[]\n",
    "\n",
    "    ### BEGIN SOLUTION\n",
    "    while (t < tf):\n",
    "        t += dt;\n",
    "        vt.append(t);\n",
    "        vxa.append(nextXana(t, params));\n",
    "        vxe.append(nextXeuler(x, t, params, dt));\n",
    "        \n",
    "    ### END SOLUTION\n",
    "\n",
    "    # Se você implementou tudo certinho, use os comandos abaixo para graficar os resultados.\n",
    "    \n",
    "    bvx = np.array(vt[1:-1])   \n",
    "    bvy = np.array(vxe[0:-1]) \n",
    "    pvx = np.array(vt[1:-1])\n",
    "    pvy = np.array(vxe[1:]) \n",
    "\n",
    "    pyplot.figure(0)\n",
    "    pyplot.plot(np.array(vt[0:-1]),np.array(vxe),label='Euler',linestyle='',marker='o') \n",
    "\n",
    "    for i in range(len(vt)-2):\n",
    "        pyplot.plot([bvx[i],pvx[i]],[bvy[i],pvy[i]], 'k-')\n",
    "   \n",
    "    pyplot.plot(np.array(vt[0:-1]),vxa,label='Analytical') \n",
    "    pyplot.title('Position')\n",
    "    pyplot.show(block=False)\n",
    "\n",
    "main() "
   ]
  },
  {
   "cell_type": "code",
   "execution_count": null,
   "metadata": {
    "collapsed": true
   },
   "outputs": [],
   "source": []
  },
  {
   "cell_type": "code",
   "execution_count": null,
   "metadata": {
    "collapsed": true
   },
   "outputs": [],
   "source": []
  },
  {
   "cell_type": "code",
   "execution_count": null,
   "metadata": {
    "collapsed": true
   },
   "outputs": [],
   "source": []
  },
  {
   "cell_type": "code",
   "execution_count": null,
   "metadata": {
    "collapsed": true
   },
   "outputs": [],
   "source": []
  }
 ],
 "metadata": {
  "anaconda-cloud": {},
  "celltoolbar": "Create Assignment",
  "kernelspec": {
   "display_name": "Python 3",
   "language": "python",
   "name": "python3"
  },
  "language_info": {
   "codemirror_mode": {
    "name": "ipython",
    "version": 3
   },
   "file_extension": ".py",
   "mimetype": "text/x-python",
   "name": "python",
   "nbconvert_exporter": "python",
   "pygments_lexer": "ipython3",
   "version": "3.6.1"
  }
 },
 "nbformat": 4,
 "nbformat_minor": 1
}
